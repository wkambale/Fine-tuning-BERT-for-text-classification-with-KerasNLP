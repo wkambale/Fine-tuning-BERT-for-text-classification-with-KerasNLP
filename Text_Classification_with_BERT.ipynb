{
  "cells": [
    {
      "cell_type": "markdown",
      "metadata": {
        "id": "view-in-github",
        "colab_type": "text"
      },
      "source": [
        "<a href=\"https://colab.research.google.com/github/wkambale/Fine-tuning-BERT-for-text-classification-with-KerasNLP/blob/main/Text_Classification_with_BERT.ipynb\" target=\"_parent\"><img src=\"https://colab.research.google.com/assets/colab-badge.svg\" alt=\"Open In Colab\"/></a>"
      ]
    },
    {
      "cell_type": "markdown",
      "metadata": {
        "id": "TG7zTxkSaSsP"
      },
      "source": [
        "# Fine-tuning BERT for text classification with KerasNLP\n",
        "\n",
        "A guide to mastering text classification with BERT and KerasNLP\n",
        "\n",
        "Link to Article: https://kambale.dev//feature-extraction-in-ml\n",
        "\n",
        "NB: To use this notebook, make a copy first.\n",
        "\n",
        "MIT License: Copyright (c) 2024 **Wesley Kambale**"
      ]
    },
    {
      "cell_type": "markdown",
      "metadata": {
        "id": "3bZL0rZZanTP"
      },
      "source": [
        "## Install necessary libraries"
      ]
    },
    {
      "cell_type": "code",
      "execution_count": null,
      "metadata": {
        "id": "uAJX9fDgaQuB"
      },
      "outputs": [],
      "source": [
        "!pip install keras-nlp\n",
        "!pip install --upgrade transformers\n",
        "!pip install --upgrade tensorflow"
      ]
    },
    {
      "cell_type": "markdown",
      "metadata": {
        "id": "ZHORfNNUa3da"
      },
      "source": [
        "## Import the libraries"
      ]
    },
    {
      "cell_type": "code",
      "execution_count": null,
      "metadata": {
        "id": "vbZBYFDFa_77"
      },
      "outputs": [],
      "source": [
        "from transformers import BertTokenizer, TFBertForSequenceClassification\n",
        "\n",
        "import pandas as pd\n",
        "from sklearn.model_selection import train_test_split\n",
        "\n",
        "import keras\n",
        "from keras.layers import Input, Dense\n",
        "from keras.models import Model\n",
        "from keras.optimizers import Adam\n",
        "\n",
        "from keras_nlp import Tokenizer\n",
        "\n",
        "from keras_nlp import load_bert_finetuned_model"
      ]
    },
    {
      "cell_type": "markdown",
      "metadata": {
        "id": "_Zq6QENYf4YU"
      },
      "source": [
        "## Load BERT Model with KerasNLP"
      ]
    },
    {
      "cell_type": "code",
      "execution_count": null,
      "metadata": {
        "id": "Uue8oA4Df-T7"
      },
      "outputs": [],
      "source": [
        "# Load BERT tokenizer\n",
        "tokenizer = BertTokenizer.from_pretrained('bert-base-uncased')\n",
        "\n",
        "# Load BERT model\n",
        "bert_model = TFBertForSequenceClassification.from_pretrained('bert-base-uncased')"
      ]
    },
    {
      "cell_type": "markdown",
      "metadata": {
        "id": "vmHb3Pirgajq"
      },
      "source": [
        "## Text Classification"
      ]
    },
    {
      "cell_type": "code",
      "execution_count": null,
      "metadata": {
        "id": "TsNZHhdkgb8u"
      },
      "outputs": [],
      "source": [
        "# Load your dataset\n",
        "data = pd.read_csv('sentiment.csv')\n",
        "\n",
        "# Split the data into training and testing sets\n",
        "train_data, test_data = train_test_split(data, test_size=0.2, random_state=42)\n",
        "\n",
        "# Tokenize and convert text data to BERT input format\n",
        "tokenizer = Tokenizer(model_name)\n",
        "X_train = tokenizer.tokenize(train_data['text'].tolist())\n",
        "X_test = tokenizer.tokenize(test_data['text'].tolist())\n",
        "\n",
        "# Convert labels to numerical format (0 for negative, 1 for positive)\n",
        "y_train = train_data['sentiment'].map({'negative': 0, 'positive': 1}).values\n",
        "y_test = test_data['sentiment'].map({'negative': 0, 'positive': 1}).values"
      ]
    },
    {
      "cell_type": "markdown",
      "metadata": {
        "id": "V4XRchM7iQsj"
      },
      "source": [
        "## BERT Text Classification Model"
      ]
    },
    {
      "cell_type": "code",
      "execution_count": null,
      "metadata": {
        "id": "w_0w5YZAiSyO"
      },
      "outputs": [],
      "source": [
        "# Define the input layer\n",
        "input_layer = Input(shape=(tokenizer.max_seq_length,), dtype='int32')\n",
        "\n",
        "# Load BERT model with the specified input layer\n",
        "bert_output = bert_model(input_layer)\n",
        "\n",
        "# Add a dense layer for classification\n",
        "output_layer = Dense(1, activation='sigmoid')(bert_output['pooled_output'])\n",
        "\n",
        "# Build the model\n",
        "model = Model(inputs=input_layer, outputs=output_layer)\n",
        "\n",
        "# Compile the model\n",
        "model.compile(optimizer=Adam(learning_rate=2e-5), loss='binary_crossentropy', metrics=['accuracy'])"
      ]
    },
    {
      "cell_type": "markdown",
      "metadata": {
        "id": "tnCghg-SigHF"
      },
      "source": [
        "## Training & Evaluating the Model"
      ]
    },
    {
      "cell_type": "code",
      "execution_count": null,
      "metadata": {
        "id": "2zn-qhVPiiWw"
      },
      "outputs": [],
      "source": [
        "# Train the model\n",
        "model.fit(X_train, y_train, epochs=3, batch_size=32, validation_split=0.1)\n",
        "\n",
        "# Evaluate the model on the test set\n",
        "loss, accuracy = model.evaluate(X_test, y_test)\n",
        "print(f'Test Loss: {loss}, Test Accuracy: {accuracy}')"
      ]
    },
    {
      "cell_type": "markdown",
      "metadata": {
        "id": "XvqLX9hAiv_o"
      },
      "source": [
        "## Fine-Tuning BERT for Specific Tasks"
      ]
    },
    {
      "cell_type": "code",
      "execution_count": null,
      "metadata": {
        "id": "tJOhjjMTixZf"
      },
      "outputs": [],
      "source": [
        "# Specify the path to the fine-tuned BERT model\n",
        "fine_tuned_model_path = 'path/to/fine_tuned_model'\n",
        "fine_tuned_model = load_bert_finetuned_model(fine_tuned_model_path)"
      ]
    },
    {
      "cell_type": "code",
      "execution_count": null,
      "metadata": {
        "id": "I_KaPNmWi_DN"
      },
      "outputs": [],
      "source": [
        "# Load your task-specific dataset\n",
        "task_data = pd.read_csv('task_specific_data.csv')\n",
        "\n",
        "# Tokenize and convert text data to BERT input format\n",
        "X_task = tokenizer.tokenize(task_data['text'].tolist())\n",
        "\n",
        "# Convert labels to numerical format\n",
        "y_task = task_data['label'].values"
      ]
    },
    {
      "cell_type": "code",
      "execution_count": null,
      "metadata": {
        "id": "Sy76zzo_jEH_"
      },
      "outputs": [],
      "source": [
        "# Fine-tune the BERT model\n",
        "fine_tuned_model.fit(X_task, y_task, epochs=5, batch_size=16, validation_split=0.1)\n",
        "\n",
        "# Save the fine-tuned model\n",
        "fine_tuned_model.save('path/to/save/fine_tuned_model')"
      ]
    }
  ],
  "metadata": {
    "colab": {
      "provenance": [],
      "gpuType": "T4",
      "authorship_tag": "ABX9TyOZH1zxQzZfp0bzxyJVC4z0",
      "include_colab_link": true
    },
    "kernelspec": {
      "display_name": "Python 3",
      "name": "python3"
    },
    "language_info": {
      "name": "python"
    },
    "accelerator": "GPU"
  },
  "nbformat": 4,
  "nbformat_minor": 0
}